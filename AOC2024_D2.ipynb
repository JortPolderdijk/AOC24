{
  "nbformat": 4,
  "nbformat_minor": 0,
  "metadata": {
    "colab": {
      "provenance": [],
      "authorship_tag": "ABX9TyP9gnpSnAh6UyTYg+dsJAiu",
      "include_colab_link": true
    },
    "kernelspec": {
      "name": "python3",
      "display_name": "Python 3"
    },
    "language_info": {
      "name": "python"
    }
  },
  "cells": [
    {
      "cell_type": "markdown",
      "metadata": {
        "id": "view-in-github",
        "colab_type": "text"
      },
      "source": [
        "<a href=\"https://colab.research.google.com/github/JortPolderdijk/AOC24/blob/main/AOC2024_D2.ipynb\" target=\"_parent\"><img src=\"https://colab.research.google.com/assets/colab-badge.svg\" alt=\"Open In Colab\"/></a>"
      ]
    },
    {
      "cell_type": "markdown",
      "source": [
        "# Day 2\n",
        "\n",
        "## Part 1"
      ],
      "metadata": {
        "id": "jTW1P-texdDc"
      }
    },
    {
      "cell_type": "code",
      "source": [
        "import numpy as np\n",
        "\n",
        "with open('input-d2p1.txt', 'r') as file:\n",
        "    reports =[list(map(int, line.split())) for line in file]\n",
        "\n",
        "max_length = max(len(row) for row in reports)\n",
        "\n",
        "reports = np.array([row + [-1] * (max_length - len(row)) for row in reports])\n",
        "reports"
      ],
      "metadata": {
        "colab": {
          "base_uri": "https://localhost:8080/"
        },
        "id": "ZroXwW6HzQLL",
        "outputId": "fc2c66b0-8e17-4c6e-8a7c-e0c44b2e7f67"
      },
      "execution_count": 36,
      "outputs": [
        {
          "output_type": "execute_result",
          "data": {
            "text/plain": [
              "array([[ 1,  3,  5, ...,  9, 12,  9],\n",
              "       [66, 67, 70, ..., 74, 75, 75],\n",
              "       [18, 20, 22, ..., 31, 35, -1],\n",
              "       ...,\n",
              "       [51, 52, 54, ..., 61, -1, -1],\n",
              "       [60, 59, 56, ..., 52, 51, -1],\n",
              "       [46, 47, 50, ..., 57, 59, 61]])"
            ]
          },
          "metadata": {},
          "execution_count": 36
        }
      ]
    },
    {
      "cell_type": "code",
      "source": [
        "count = 0\n",
        "for row in reports:\n",
        "  row = row[row != -1]\n",
        "  diff = abs(np.diff(row))\n",
        "  if np.max(diff) > 3 or np.min(diff) < 1:\n",
        "    continue\n",
        "  elif not np.all(row[:-1] <= row[1:]) and not np.all(row[:-1] >= row[1:]):\n",
        "    continue\n",
        "  else:\n",
        "    count += 1\n",
        "\n",
        "print(\"Output:\")\n",
        "count"
      ],
      "metadata": {
        "colab": {
          "base_uri": "https://localhost:8080/"
        },
        "id": "DKNxSqmHxkl6",
        "outputId": "c9af0080-71e7-445c-df26-d819e6b83b9e"
      },
      "execution_count": 51,
      "outputs": [
        {
          "output_type": "stream",
          "name": "stdout",
          "text": [
            "Output:\n"
          ]
        },
        {
          "output_type": "execute_result",
          "data": {
            "text/plain": [
              "359"
            ]
          },
          "metadata": {},
          "execution_count": 51
        }
      ]
    },
    {
      "cell_type": "markdown",
      "source": [
        "## Part 2"
      ],
      "metadata": {
        "id": "Iu7_ckQb7Plk"
      }
    },
    {
      "cell_type": "code",
      "source": [],
      "metadata": {
        "id": "w3Y9QDsj7tbt"
      },
      "execution_count": null,
      "outputs": []
    }
  ]
}