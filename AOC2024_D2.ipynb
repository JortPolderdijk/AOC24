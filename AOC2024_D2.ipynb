{
  "nbformat": 4,
  "nbformat_minor": 0,
  "metadata": {
    "colab": {
      "provenance": [],
      "authorship_tag": "ABX9TyMrP4DAjVts4K3zpPrw0+QR",
      "include_colab_link": true
    },
    "kernelspec": {
      "name": "python3",
      "display_name": "Python 3"
    },
    "language_info": {
      "name": "python"
    }
  },
  "cells": [
    {
      "cell_type": "markdown",
      "metadata": {
        "id": "view-in-github",
        "colab_type": "text"
      },
      "source": [
        "<a href=\"https://colab.research.google.com/github/JortPolderdijk/AOC24/blob/main/AOC2024_D2.ipynb\" target=\"_parent\"><img src=\"https://colab.research.google.com/assets/colab-badge.svg\" alt=\"Open In Colab\"/></a>"
      ]
    },
    {
      "cell_type": "markdown",
      "source": [
        "# Day 2\n",
        "\n",
        "## Part 1"
      ],
      "metadata": {
        "id": "jTW1P-texdDc"
      }
    },
    {
      "cell_type": "code",
      "source": [
        "import numpy as np\n",
        "\n",
        "with open('input-d2p1.txt', 'r') as file:\n",
        "    reports =[list(map(int, line.split())) for line in file]\n",
        "\n",
        "max_length = max(len(row) for row in reports)\n",
        "\n",
        "reports = np.array([row + [-1] * (max_length - len(row)) for row in reports])\n",
        "reports"
      ],
      "metadata": {
        "colab": {
          "base_uri": "https://localhost:8080/"
        },
        "id": "ZroXwW6HzQLL",
        "outputId": "e45405a9-f8f2-45f5-c564-cf30fb7ef2d9"
      },
      "execution_count": 110,
      "outputs": [
        {
          "output_type": "execute_result",
          "data": {
            "text/plain": [
              "array([[ 1,  3,  5, ...,  9, 12,  9],\n",
              "       [66, 67, 70, ..., 74, 75, 75],\n",
              "       [18, 20, 22, ..., 31, 35, -1],\n",
              "       ...,\n",
              "       [51, 52, 54, ..., 61, -1, -1],\n",
              "       [60, 59, 56, ..., 52, 51, -1],\n",
              "       [46, 47, 50, ..., 57, 59, 61]])"
            ]
          },
          "metadata": {},
          "execution_count": 110
        }
      ]
    },
    {
      "cell_type": "code",
      "source": [
        "count = 0\n",
        "for row in reports:\n",
        "  row = row[row != -1]\n",
        "  diff = abs(np.diff(row))\n",
        "  if np.max(diff) > 3 or np.min(diff) < 1:\n",
        "    continue\n",
        "  elif not np.all(row[:-1] <= row[1:]) and not np.all(row[:-1] >= row[1:]):\n",
        "    continue\n",
        "  else:\n",
        "    count += 1\n",
        "\n",
        "print(\"Output:\")\n",
        "count"
      ],
      "metadata": {
        "colab": {
          "base_uri": "https://localhost:8080/"
        },
        "id": "DKNxSqmHxkl6",
        "outputId": "9da3a43f-f937-437a-c41f-b4ac6bd37b17"
      },
      "execution_count": 104,
      "outputs": [
        {
          "output_type": "stream",
          "name": "stdout",
          "text": [
            "Output:\n"
          ]
        },
        {
          "output_type": "execute_result",
          "data": {
            "text/plain": [
              "359"
            ]
          },
          "metadata": {},
          "execution_count": 104
        }
      ]
    },
    {
      "cell_type": "markdown",
      "source": [
        "## Part 2"
      ],
      "metadata": {
        "id": "Iu7_ckQb7Plk"
      }
    },
    {
      "cell_type": "code",
      "source": [
        "count = 0\n",
        "for row in reports:\n",
        "  row = row[row != -1]\n",
        "  diff = abs(np.diff(row))\n",
        "  if np.max(diff) <= 3 and np.min(diff) >= 1 and (np.all(row[:-1] <= row[1:]) or np.all(row[:-1] >= row[1:])):\n",
        "    count += 1\n",
        "    continue\n",
        "\n",
        "  for i in range(len(row)):\n",
        "    temp_row = np.delete(row, i)\n",
        "    if len(temp_row) > 0:\n",
        "      diff = abs(np.diff(temp_row))\n",
        "      if np.max(diff) <= 3 and np.min(diff) >= 1 and (np.all(temp_row[:-1] <= temp_row[1:]) or np.all(temp_row[:-1] >= temp_row[1:])):\n",
        "        count += 1\n",
        "        break\n",
        "print(\"Output:\")\n",
        "count"
      ],
      "metadata": {
        "colab": {
          "base_uri": "https://localhost:8080/"
        },
        "id": "hxn_SvAaGNpN",
        "outputId": "1c48d03b-50d1-40be-f419-f3c2fa5348b5"
      },
      "execution_count": 112,
      "outputs": [
        {
          "output_type": "stream",
          "name": "stdout",
          "text": [
            "Output:\n"
          ]
        },
        {
          "output_type": "execute_result",
          "data": {
            "text/plain": [
              "418"
            ]
          },
          "metadata": {},
          "execution_count": 112
        }
      ]
    }
  ]
}